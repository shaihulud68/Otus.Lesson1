{
 "cells": [
  {
   "cell_type": "markdown",
   "metadata": {},
   "source": [
    "## Numpy"
   ]
  },
  {
   "cell_type": "markdown",
   "metadata": {},
   "source": [
    "Импортировать NumPy под именем np"
   ]
  },
  {
   "cell_type": "code",
   "execution_count": 2,
   "metadata": {},
   "outputs": [],
   "source": [
    "import numpy as np"
   ]
  },
  {
   "cell_type": "markdown",
   "metadata": {},
   "source": [
    "Создать вектор (одномерный массив) размера 10, заполненный нулями"
   ]
  },
  {
   "cell_type": "code",
   "execution_count": 5,
   "metadata": {},
   "outputs": [
    {
     "name": "stdout",
     "output_type": "stream",
     "text": [
      "[0. 0. 0. 0. 0. 0. 0. 0. 0. 0.]\n"
     ]
    }
   ],
   "source": [
    "a = np.zeros(10)\n",
    "print(a)"
   ]
  },
  {
   "cell_type": "markdown",
   "metadata": {},
   "source": [
    "Создать вектор размера 10, заполненный единицами"
   ]
  },
  {
   "cell_type": "code",
   "execution_count": 7,
   "metadata": {
    "scrolled": true
   },
   "outputs": [
    {
     "name": "stdout",
     "output_type": "stream",
     "text": [
      "[1. 1. 1. 1. 1. 1. 1. 1. 1. 1.]\n"
     ]
    }
   ],
   "source": [
    "a1 = np.ones(10)\n",
    "print(a1)"
   ]
  },
  {
   "cell_type": "markdown",
   "metadata": {},
   "source": [
    "Создать вектор размера 10, заполненный числом 2.5"
   ]
  },
  {
   "cell_type": "code",
   "execution_count": 8,
   "metadata": {},
   "outputs": [
    {
     "name": "stdout",
     "output_type": "stream",
     "text": [
      "[2.5 2.5 2.5 2.5 2.5 2.5 2.5 2.5 2.5 2.5]\n"
     ]
    }
   ],
   "source": [
    "a10 = np.linspace(2.5,2.5,10)\n",
    "print(a10)"
   ]
  },
  {
   "cell_type": "markdown",
   "metadata": {},
   "source": [
    "Создать вектор размера 10, заполненный нулями, но пятый элемент равен 1"
   ]
  },
  {
   "cell_type": "code",
   "execution_count": 11,
   "metadata": {},
   "outputs": [
    {
     "name": "stdout",
     "output_type": "stream",
     "text": [
      "[0. 0. 0. 0. 1. 0. 0. 0. 0. 0.]\n"
     ]
    }
   ],
   "source": [
    "a05 = np.eye(10)[4]\n",
    "#a05[5] = 1\n",
    "print(a05)"
   ]
  },
  {
   "cell_type": "markdown",
   "metadata": {},
   "source": [
    "Развернуть вектор (первый становится последним)"
   ]
  },
  {
   "cell_type": "code",
   "execution_count": 4,
   "metadata": {},
   "outputs": [
    {
     "name": "stdout",
     "output_type": "stream",
     "text": [
      "[0 1 2 3 4 5 6 7 8 9]\n",
      "[9 8 7 6 5 4 3 2 1 0]\n"
     ]
    }
   ],
   "source": [
    "v = np.arange(0,10)\n",
    "print(v)\n",
    "v = v[::-1]\n",
    "print(v)"
   ]
  },
  {
   "cell_type": "markdown",
   "metadata": {},
   "source": [
    "Создать матрицу (двумерный массив) 3x3 со значениями от 0 до 8"
   ]
  },
  {
   "cell_type": "code",
   "execution_count": 6,
   "metadata": {},
   "outputs": [
    {
     "name": "stdout",
     "output_type": "stream",
     "text": [
      "[[0 1 2]\n",
      " [3 4 5]\n",
      " [6 7 8]]\n"
     ]
    }
   ],
   "source": [
    "v = np.arange(9).reshape(3,3)\n",
    "print(v)"
   ]
  },
  {
   "cell_type": "markdown",
   "metadata": {},
   "source": [
    "Найти индексы ненулевых элементов в [1,2,0,0,4,0]"
   ]
  },
  {
   "cell_type": "code",
   "execution_count": 7,
   "metadata": {},
   "outputs": [
    {
     "name": "stdout",
     "output_type": "stream",
     "text": [
      "(array([0, 1, 4], dtype=int64),)\n"
     ]
    }
   ],
   "source": [
    "v = np.nonzero([1,2,0,0,4,0])\n",
    "print(v)"
   ]
  },
  {
   "cell_type": "markdown",
   "metadata": {},
   "source": [
    "Создать 3x3 единичную матрицу"
   ]
  },
  {
   "cell_type": "code",
   "execution_count": 10,
   "metadata": {},
   "outputs": [
    {
     "name": "stdout",
     "output_type": "stream",
     "text": [
      "[[1. 0. 0.]\n",
      " [0. 1. 0.]\n",
      " [0. 0. 1.]]\n"
     ]
    }
   ],
   "source": [
    "v = np.eye(3)\n",
    "print(v)"
   ]
  },
  {
   "cell_type": "markdown",
   "metadata": {},
   "source": [
    "Создать массив 3x3x3 со случайными значениями"
   ]
  },
  {
   "cell_type": "code",
   "execution_count": 12,
   "metadata": {},
   "outputs": [
    {
     "name": "stdout",
     "output_type": "stream",
     "text": [
      "[[[0.73361722 0.8842101  0.2997094 ]\n",
      "  [0.53230829 0.13475055 0.94240025]\n",
      "  [0.55141412 0.98207978 0.98423266]]\n",
      "\n",
      " [[0.45221613 0.04748577 0.21609297]\n",
      "  [0.47128575 0.54055084 0.55908798]\n",
      "  [0.84488316 0.13688607 0.1027442 ]]\n",
      "\n",
      " [[0.13851217 0.66501126 0.30273254]\n",
      "  [0.39428739 0.68761085 0.27926345]\n",
      "  [0.27473386 0.07582266 0.95056775]]]\n"
     ]
    }
   ],
   "source": [
    "v = np.random.random((3,3,3))\n",
    "print(v)"
   ]
  },
  {
   "cell_type": "markdown",
   "metadata": {},
   "source": [
    "Создать случайный вектор размера 30 и найти среднее значение всех элементов"
   ]
  },
  {
   "cell_type": "code",
   "execution_count": 14,
   "metadata": {},
   "outputs": [
    {
     "name": "stdout",
     "output_type": "stream",
     "text": [
      "0.5135063400905895\n"
     ]
    }
   ],
   "source": [
    "v = np.random.random(30)\n",
    "print(v.mean())"
   ]
  },
  {
   "cell_type": "markdown",
   "metadata": {},
   "source": [
    "Перемножить матрицы 5x3 и 3x2"
   ]
  },
  {
   "cell_type": "code",
   "execution_count": 19,
   "metadata": {},
   "outputs": [
    {
     "name": "stdout",
     "output_type": "stream",
     "text": [
      "[[3. 3.]\n",
      " [3. 3.]\n",
      " [3. 3.]\n",
      " [3. 3.]\n",
      " [3. 3.]]\n"
     ]
    }
   ],
   "source": [
    "v = np.dot(np.ones((5,3)), np.ones((3,2)))\n",
    "print(v)"
   ]
  },
  {
   "cell_type": "markdown",
   "metadata": {},
   "source": [
    "Создать вектор размера 10 со значениями от 0 до 1, не включая ни то, ни другое"
   ]
  },
  {
   "cell_type": "code",
   "execution_count": 21,
   "metadata": {},
   "outputs": [
    {
     "name": "stdout",
     "output_type": "stream",
     "text": [
      "[0.09090909 0.18181818 0.27272727 0.36363636 0.45454545 0.54545455\n",
      " 0.63636364 0.72727273 0.81818182 0.90909091]\n"
     ]
    }
   ],
   "source": [
    "v = np.linspace(0,1,12)[1:-1]\n",
    "print(v)"
   ]
  },
  {
   "cell_type": "markdown",
   "metadata": {},
   "source": [
    "Заменить максимальный элемент на ноль"
   ]
  },
  {
   "cell_type": "code",
   "execution_count": 23,
   "metadata": {},
   "outputs": [
    {
     "name": "stdout",
     "output_type": "stream",
     "text": [
      "[0.29038805 0.88600662 0.69319607 0.38129797 0.7216463  0.25215197\n",
      " 0.66976807 0.0323489  0.88826831 0.76143891]\n",
      "[0.29038805 0.88600662 0.69319607 0.38129797 0.7216463  0.25215197\n",
      " 0.66976807 0.0323489  0.         0.76143891]\n"
     ]
    }
   ],
   "source": [
    "v = np.random.random(10)\n",
    "print(v)\n",
    "v[v.argmax()] = 0\n",
    "print(v)"
   ]
  },
  {
   "cell_type": "markdown",
   "metadata": {},
   "source": [
    "Преобразовать массив из float в int"
   ]
  },
  {
   "cell_type": "code",
   "execution_count": 25,
   "metadata": {},
   "outputs": [
    {
     "name": "stdout",
     "output_type": "stream",
     "text": [
      "[0. 1. 2. 3. 4. 5. 6. 7. 8. 9.]\n",
      "[0 1 2 3 4 5 6 7 8 9]\n"
     ]
    }
   ],
   "source": [
    "v = np.arange(10, dtype=np.float32)\n",
    "print(v)\n",
    "v = v.astype(np.int32, copy=False)\n",
    "print(v)"
   ]
  },
  {
   "cell_type": "markdown",
   "metadata": {},
   "source": [
    "Дан массив (10,2) координат, найти расстояние от каждой точки до каждой"
   ]
  },
  {
   "cell_type": "code",
   "execution_count": 32,
   "metadata": {},
   "outputs": [
    {
     "name": "stdout",
     "output_type": "stream",
     "text": [
      "[[0.24199872 0.10255388]\n",
      " [0.56744313 0.56811092]\n",
      " [0.61481952 0.52119905]\n",
      " [0.39594122 0.81917585]\n",
      " [0.32259547 0.36882779]\n",
      " [0.14088156 0.37106676]\n",
      " [0.38041716 0.85302076]\n",
      " [0.11071752 0.00135169]\n",
      " [0.79774228 0.82711845]\n",
      " [0.45557141 0.02129425]]\n",
      "[[0.         0.56802942 0.56058819 0.73297021 0.27820429 0.28692131\n",
      "  0.76312529 0.16576078 0.91315098 0.22850913]\n",
      " [0.56802942 0.         0.06667267 0.30405017 0.31569629 0.46987357\n",
      "  0.34081129 0.72788344 0.34658707 0.55814313]\n",
      " [0.56058819 0.06667267 0.         0.36972677 0.32956319 0.49714876\n",
      "  0.40626361 0.72412713 0.35643712 0.52465681]\n",
      " [0.73297021 0.30405017 0.36972677 0.         0.45628168 0.51561341\n",
      "  0.0372354  0.86613446 0.40187956 0.80010674]\n",
      " [0.27820429 0.31569629 0.32956319 0.45628168 0.         0.1817277\n",
      "  0.48763325 0.42418268 0.66014758 0.37210504]\n",
      " [0.28692131 0.46987357 0.49714876 0.51561341 0.1817277  0.\n",
      "  0.53819789 0.37094353 0.79965565 0.47050027]\n",
      " [0.76312529 0.34081129 0.40626361 0.0372354  0.48763325 0.53819789\n",
      "  0.         0.89335217 0.4181282  0.83511505]\n",
      " [0.16576078 0.72788344 0.72412713 0.86613446 0.42418268 0.37094353\n",
      "  0.89335217 0.         1.07419447 0.34543003]\n",
      " [0.91315098 0.34658707 0.35643712 0.40187956 0.66014758 0.79965565\n",
      "  0.4181282  1.07419447 0.         0.8754619 ]\n",
      " [0.22850913 0.55814313 0.52465681 0.80010674 0.37210504 0.47050027\n",
      "  0.83511505 0.34543003 0.8754619  0.        ]]\n"
     ]
    }
   ],
   "source": [
    "import scipy.spatial\n",
    "\n",
    "v = np.random.random((10,2))\n",
    "print(v)\n",
    "\n",
    "print(scipy.spatial.distance.cdist(v,v))"
   ]
  },
  {
   "cell_type": "markdown",
   "metadata": {},
   "source": [
    "Случайно расположить p элементов в 2D массив"
   ]
  },
  {
   "cell_type": "code",
   "execution_count": 35,
   "metadata": {},
   "outputs": [
    {
     "name": "stdout",
     "output_type": "stream",
     "text": [
      "[[0. 0. 0. 0. 0. 0. 0. 0. 0. 0.]\n",
      " [0. 0. 0. 0. 0. 0. 0. 0. 0. 0.]\n",
      " [0. 0. 0. 0. 0. 0. 0. 0. 0. 0.]\n",
      " [0. 0. 0. 0. 0. 0. 0. 0. 0. 0.]\n",
      " [0. 0. 0. 0. 0. 0. 0. 0. 0. 0.]\n",
      " [0. 0. 0. 0. 0. 0. 0. 0. 0. 0.]\n",
      " [0. 0. 0. 0. 0. 0. 0. 0. 0. 0.]\n",
      " [0. 0. 0. 0. 0. 0. 0. 0. 0. 0.]\n",
      " [0. 0. 0. 0. 0. 0. 0. 0. 0. 0.]\n",
      " [0. 0. 0. 0. 0. 0. 0. 0. 0. 0.]]\n",
      "[[0. 0. 0. 0. 0. 0. 0. 0. 0. 0.]\n",
      " [0. 0. 0. 0. 0. 0. 0. 0. 0. 0.]\n",
      " [0. 0. 0. 0. 0. 0. 0. 0. 0. 0.]\n",
      " [0. 0. 0. 0. 0. 0. 0. 0. 0. 0.]\n",
      " [0. 0. 0. 0. 0. 0. 0. 0. 0. 0.]\n",
      " [1. 0. 0. 0. 0. 0. 0. 0. 0. 1.]\n",
      " [0. 0. 0. 0. 0. 0. 0. 0. 0. 0.]\n",
      " [0. 0. 0. 0. 0. 0. 0. 0. 0. 0.]\n",
      " [0. 0. 0. 0. 0. 0. 0. 0. 0. 0.]\n",
      " [0. 0. 0. 0. 0. 1. 0. 0. 0. 0.]]\n"
     ]
    }
   ],
   "source": [
    "n = 10\n",
    "p = 3\n",
    "Z = np.zeros((n,n))\n",
    "print(Z)\n",
    "np.put(Z, np.random.choice(range(n*n), p, replace=False), 1)\n",
    "print(Z)"
   ]
  },
  {
   "cell_type": "markdown",
   "metadata": {},
   "source": [
    "Дан вектор [1, 2, 3, 4, 5], построить новый вектор с тремя нулями между каждым значением"
   ]
  },
  {
   "cell_type": "code",
   "execution_count": 6,
   "metadata": {},
   "outputs": [
    {
     "name": "stdout",
     "output_type": "stream",
     "text": [
      "[1 2 3 4 5]\n",
      "[1. 0. 0. 0. 2. 0. 0. 0. 3. 0. 0. 0. 4. 0. 0. 0. 5.]\n"
     ]
    }
   ],
   "source": [
    "v = np.array([1, 2, 3, 4, 5])\n",
    "print(v)\n",
    "\n",
    "n = 3\n",
    "\n",
    "z = np.zeros(len(v) + (len(v)-1)*(n))\n",
    "z[::n+1] = v\n",
    "print(z)"
   ]
  },
  {
   "cell_type": "markdown",
   "metadata": {},
   "source": [
    "Найти наиболее частое значение в массиве"
   ]
  },
  {
   "cell_type": "code",
   "execution_count": 9,
   "metadata": {},
   "outputs": [
    {
     "name": "stdout",
     "output_type": "stream",
     "text": [
      "[3 4 1 5 6 2 9 8 9 7 8 3 9 9 8 3 4 0 2 2 6 5 2 6 5 0 0 8 7 4 4 3 8 5 8 8 7\n",
      " 6 4 1 8 0 3 2 2 0 8 7 2 2]\n",
      "8\n"
     ]
    }
   ],
   "source": [
    "v = np.random.randint(0,10,50)\n",
    "print(v)\n",
    "print(np.bincount(v).argmax())"
   ]
  },
  {
   "cell_type": "markdown",
   "metadata": {},
   "source": [
    "Найти n наибольших значений в массиве"
   ]
  },
  {
   "cell_type": "code",
   "execution_count": 10,
   "metadata": {},
   "outputs": [
    {
     "name": "stdout",
     "output_type": "stream",
     "text": [
      "[   0    1    2 ... 9997 9998 9999]\n",
      "[3699 9205 4267 ... 7945 7357 6489]\n",
      "[9997 9999 9996 9998 9995]\n"
     ]
    }
   ],
   "source": [
    "v = np.arange(10000)\n",
    "print(v)\n",
    "np.random.shuffle(v)\n",
    "print(v)\n",
    "n = 5\n",
    "\n",
    "print (v[np.argpartition(-v,n)[:n]])"
   ]
  },
  {
   "cell_type": "markdown",
   "metadata": {},
   "source": [
    "## Pandas - изучение данных"
   ]
  },
  {
   "cell_type": "markdown",
   "metadata": {
    "collapsed": true
   },
   "source": [
    "Перейти по ссылке [Kaggle]( https://www.kaggle.com/openfoodfacts/world-food-facts)"
   ]
  },
  {
   "cell_type": "markdown",
   "metadata": {
    "collapsed": true
   },
   "source": [
    "Скачать датасет на свой компьютер и распаковать"
   ]
  },
  {
   "cell_type": "markdown",
   "metadata": {
    "collapsed": true
   },
   "source": [
    "Считать csv файл в датафрейм food"
   ]
  },
  {
   "cell_type": "code",
   "execution_count": 2,
   "metadata": {},
   "outputs": [],
   "source": [
    "import pandas as pd\n",
    "\n",
    "#food = pd.read_csv('D:\\en.openfoodfacts.org.products.csv',sep='\\t', engine='python')\n",
    "food = pd.read_table('D:\\en.openfoodfacts.org.products.tsv', low_memory=False)"
   ]
  },
  {
   "cell_type": "markdown",
   "metadata": {
    "collapsed": true
   },
   "source": [
    "Посмотреть первые 5 записей"
   ]
  },
  {
   "cell_type": "code",
   "execution_count": 20,
   "metadata": {},
   "outputs": [
    {
     "name": "stdout",
     "output_type": "stream",
     "text": [
      "            code                                                url  \\\n",
      "0  0000000003087  http://world-en.openfoodfacts.org/product/0000...   \n",
      "1  0000000004530  http://world-en.openfoodfacts.org/product/0000...   \n",
      "2  0000000004559  http://world-en.openfoodfacts.org/product/0000...   \n",
      "3  0000000016087  http://world-en.openfoodfacts.org/product/0000...   \n",
      "4  0000000016094  http://world-en.openfoodfacts.org/product/0000...   \n",
      "\n",
      "                      creator   created_t      created_datetime  \\\n",
      "0  openfoodfacts-contributors  1474103866  2016-09-17T09:17:46Z   \n",
      "1             usda-ndb-import  1489069957  2017-03-09T14:32:37Z   \n",
      "2             usda-ndb-import  1489069957  2017-03-09T14:32:37Z   \n",
      "3             usda-ndb-import  1489055731  2017-03-09T10:35:31Z   \n",
      "4             usda-ndb-import  1489055653  2017-03-09T10:34:13Z   \n",
      "\n",
      "  last_modified_t last_modified_datetime                    product_name  \\\n",
      "0      1474103893   2016-09-17T09:18:13Z              Farine de blé noir   \n",
      "1      1489069957   2017-03-09T14:32:37Z  Banana Chips Sweetened (Whole)   \n",
      "2      1489069957   2017-03-09T14:32:37Z                         Peanuts   \n",
      "3      1489055731   2017-03-09T10:35:31Z          Organic Salted Nut Mix   \n",
      "4      1489055653   2017-03-09T10:34:13Z                 Organic Polenta   \n",
      "\n",
      "  generic_name quantity         ...         fruits-vegetables-nuts_100g  \\\n",
      "0          NaN      1kg         ...                                 NaN   \n",
      "1          NaN      NaN         ...                                 NaN   \n",
      "2          NaN      NaN         ...                                 NaN   \n",
      "3          NaN      NaN         ...                                 NaN   \n",
      "4          NaN      NaN         ...                                 NaN   \n",
      "\n",
      "  fruits-vegetables-nuts-estimate_100g collagen-meat-protein-ratio_100g  \\\n",
      "0                                  NaN                              NaN   \n",
      "1                                  NaN                              NaN   \n",
      "2                                  NaN                              NaN   \n",
      "3                                  NaN                              NaN   \n",
      "4                                  NaN                              NaN   \n",
      "\n",
      "  cocoa_100g chlorophyl_100g carbon-footprint_100g nutrition-score-fr_100g  \\\n",
      "0        NaN             NaN                   NaN                     NaN   \n",
      "1        NaN             NaN                   NaN                    14.0   \n",
      "2        NaN             NaN                   NaN                     0.0   \n",
      "3        NaN             NaN                   NaN                    12.0   \n",
      "4        NaN             NaN                   NaN                     NaN   \n",
      "\n",
      "  nutrition-score-uk_100g glycemic-index_100g water-hardness_100g  \n",
      "0                     NaN                 NaN                 NaN  \n",
      "1                    14.0                 NaN                 NaN  \n",
      "2                     0.0                 NaN                 NaN  \n",
      "3                    12.0                 NaN                 NaN  \n",
      "4                     NaN                 NaN                 NaN  \n",
      "\n",
      "[5 rows x 163 columns]\n"
     ]
    }
   ],
   "source": [
    "print(food[:5])"
   ]
  },
  {
   "cell_type": "markdown",
   "metadata": {
    "collapsed": true
   },
   "source": [
    "Сколько наблюдений в наборе данных?\n"
   ]
  },
  {
   "cell_type": "code",
   "execution_count": 22,
   "metadata": {},
   "outputs": [
    {
     "name": "stdout",
     "output_type": "stream",
     "text": [
      "356001\n"
     ]
    }
   ],
   "source": [
    "print(food['code'].count())"
   ]
  },
  {
   "cell_type": "markdown",
   "metadata": {
    "collapsed": true
   },
   "source": [
    "Сколько столбцов в наборе данных?"
   ]
  },
  {
   "cell_type": "code",
   "execution_count": 23,
   "metadata": {},
   "outputs": [
    {
     "name": "stdout",
     "output_type": "stream",
     "text": [
      "163\n"
     ]
    }
   ],
   "source": [
    "print(len(food.columns))"
   ]
  },
  {
   "cell_type": "markdown",
   "metadata": {
    "collapsed": true
   },
   "source": [
    "Напечатайте все названия столбцов"
   ]
  },
  {
   "cell_type": "code",
   "execution_count": 24,
   "metadata": {},
   "outputs": [
    {
     "name": "stdout",
     "output_type": "stream",
     "text": [
      "Index(['code', 'url', 'creator', 'created_t', 'created_datetime',\n",
      "       'last_modified_t', 'last_modified_datetime', 'product_name',\n",
      "       'generic_name', 'quantity',\n",
      "       ...\n",
      "       'fruits-vegetables-nuts_100g', 'fruits-vegetables-nuts-estimate_100g',\n",
      "       'collagen-meat-protein-ratio_100g', 'cocoa_100g', 'chlorophyl_100g',\n",
      "       'carbon-footprint_100g', 'nutrition-score-fr_100g',\n",
      "       'nutrition-score-uk_100g', 'glycemic-index_100g',\n",
      "       'water-hardness_100g'],\n",
      "      dtype='object', length=163)\n"
     ]
    }
   ],
   "source": [
    "print(food.columns)"
   ]
  },
  {
   "cell_type": "markdown",
   "metadata": {
    "collapsed": true
   },
   "source": [
    "Какое название у 105 столбца?"
   ]
  },
  {
   "cell_type": "code",
   "execution_count": 25,
   "metadata": {},
   "outputs": [
    {
     "name": "stdout",
     "output_type": "stream",
     "text": [
      "-fructose_100g\n"
     ]
    }
   ],
   "source": [
    "print(food.columns[105])"
   ]
  },
  {
   "cell_type": "markdown",
   "metadata": {},
   "source": [
    "Какой тип наблюдений в 105 столбце?"
   ]
  },
  {
   "cell_type": "code",
   "execution_count": 12,
   "metadata": {},
   "outputs": [
    {
     "data": {
      "text/plain": [
       "str"
      ]
     },
     "execution_count": 12,
     "metadata": {},
     "output_type": "execute_result"
    }
   ],
   "source": [
    "type(food.columns[105])"
   ]
  },
  {
   "cell_type": "markdown",
   "metadata": {},
   "source": [
    "Как проиндексирован набор данных?"
   ]
  },
  {
   "cell_type": "code",
   "execution_count": 13,
   "metadata": {},
   "outputs": [
    {
     "name": "stdout",
     "output_type": "stream",
     "text": [
      "RangeIndex(start=0, stop=356027, step=1)\n"
     ]
    }
   ],
   "source": [
    "print(food.index)"
   ]
  },
  {
   "cell_type": "markdown",
   "metadata": {},
   "source": [
    "Каково значение имени продукта в 19-м наблюдении?"
   ]
  },
  {
   "cell_type": "code",
   "execution_count": 11,
   "metadata": {},
   "outputs": [
    {
     "name": "stdout",
     "output_type": "stream",
     "text": [
      "Lotus Organic Brown Jasmine Rice\n"
     ]
    }
   ],
   "source": [
    "print(food['product_name'][18])"
   ]
  },
  {
   "cell_type": "markdown",
   "metadata": {},
   "source": [
    "## Pandas - фильтрация данных"
   ]
  },
  {
   "cell_type": "markdown",
   "metadata": {},
   "source": [
    "Считать данные по  [адресу](https://raw.githubusercontent.com/justmarkham/DAT8/master/data/chipotle.tsv). \n",
    "Присвоить переменной chipo"
   ]
  },
  {
   "cell_type": "code",
   "execution_count": 14,
   "metadata": {},
   "outputs": [],
   "source": [
    "import pandas as pd\n",
    "\n",
    "chipo = pd.read_table('D:\\chipotle.tsv', low_memory=False)"
   ]
  },
  {
   "cell_type": "markdown",
   "metadata": {},
   "source": [
    "Как много продуктов стоят более чем $10.00?"
   ]
  },
  {
   "cell_type": "code",
   "execution_count": 40,
   "metadata": {},
   "outputs": [
    {
     "name": "stdout",
     "output_type": "stream",
     "text": [
      "      order_id  quantity           item_name  \\\n",
      "4            2         2        Chicken Bowl   \n",
      "5            3         1        Chicken Bowl   \n",
      "7            4         1       Steak Burrito   \n",
      "13           7         1        Chicken Bowl   \n",
      "23          12         1     Chicken Burrito   \n",
      "39          19         1       Barbacoa Bowl   \n",
      "42          20         1        Chicken Bowl   \n",
      "43          20         1       Steak Burrito   \n",
      "45          21         1     Chicken Burrito   \n",
      "52          24         1     Chicken Burrito   \n",
      "57          26         1      Veggie Burrito   \n",
      "58          27         1       Barbacoa Bowl   \n",
      "62          28         1         Veggie Bowl   \n",
      "68          30         1     Chicken Burrito   \n",
      "79          35         1  Chicken Soft Tacos   \n",
      "90          40         1          Steak Bowl   \n",
      "91          40         1          Steak Bowl   \n",
      "93          41         1    Carnitas Burrito   \n",
      "97          43         1       Carnitas Bowl   \n",
      "123         54         1        Chicken Bowl   \n",
      "130         57         1    Barbacoa Burrito   \n",
      "134         59         1     Chicken Burrito   \n",
      "135         60         2  Chicken Salad Bowl   \n",
      "136         61         1       Barbacoa Bowl   \n",
      "138         62         1        Chicken Bowl   \n",
      "140         63         1        Chicken Bowl   \n",
      "142         64         1        Chicken Bowl   \n",
      "143         64         1         Veggie Bowl   \n",
      "144         65         1    Barbacoa Burrito   \n",
      "147         66         1       Steak Burrito   \n",
      "...        ...       ...                 ...   \n",
      "4504      1791         1       Carnitas Bowl   \n",
      "4506      1792         1        Chicken Bowl   \n",
      "4510      1793         1       Barbacoa Bowl   \n",
      "4518      1796         1          Steak Bowl   \n",
      "4521      1798         1     Chicken Burrito   \n",
      "4523      1798         1  Steak Crispy Tacos   \n",
      "4533      1802         1     Chicken Burrito   \n",
      "4540      1805         1        Chicken Bowl   \n",
      "4553      1810         1        Chicken Bowl   \n",
      "4554      1810         1  Steak Crispy Tacos   \n",
      "4556      1811         1     Chicken Burrito   \n",
      "4559      1812         1     Chicken Burrito   \n",
      "4561      1813         2  Chicken Salad Bowl   \n",
      "4564      1815         1        Chicken Bowl   \n",
      "4576      1820         1        Chicken Bowl   \n",
      "4580      1822         1  Chicken Salad Bowl   \n",
      "4586      1824         1        Chicken Bowl   \n",
      "4587      1824         1        Chicken Bowl   \n",
      "4589      1825         1        Chicken Bowl   \n",
      "4590      1825         1        Chicken Bowl   \n",
      "4592      1825         1    Barbacoa Burrito   \n",
      "4593      1825         1       Carnitas Bowl   \n",
      "4594      1825         1       Barbacoa Bowl   \n",
      "4607      1829         1       Steak Burrito   \n",
      "4608      1829         1      Veggie Burrito   \n",
      "4610      1830         1       Steak Burrito   \n",
      "4611      1830         1      Veggie Burrito   \n",
      "4617      1833         1       Steak Burrito   \n",
      "4618      1833         1       Steak Burrito   \n",
      "4619      1834         1  Chicken Salad Bowl   \n",
      "\n",
      "                                     choice_description item_price  \n",
      "4     [Tomatillo-Red Chili Salsa (Hot), [Black Beans...    $16.98   \n",
      "5     [Fresh Tomato Salsa (Mild), [Rice, Cheese, Sou...    $10.98   \n",
      "7     [Tomatillo Red Chili Salsa, [Fajita Vegetables...    $11.75   \n",
      "13    [Fresh Tomato Salsa, [Fajita Vegetables, Rice,...    $11.25   \n",
      "23    [[Tomatillo-Green Chili Salsa (Medium), Tomati...    $10.98   \n",
      "39    [Roasted Chili Corn Salsa, [Fajita Vegetables,...    $11.75   \n",
      "42    [Roasted Chili Corn Salsa, [Rice, Black Beans,...    $11.25   \n",
      "43    [Fresh Tomato Salsa, [Rice, Pinto Beans, Chees...    $11.75   \n",
      "45    [Tomatillo-Red Chili Salsa (Hot), [Black Beans...    $10.98   \n",
      "52    [Roasted Chili Corn Salsa (Medium), [Black Bea...    $10.98   \n",
      "57    [Tomatillo Red Chili Salsa, [Fajita Vegetables...    $11.25   \n",
      "58    [Roasted Chili Corn Salsa, [Fajita Vegetables,...    $11.75   \n",
      "62    [Fresh Tomato Salsa, [Fajita Vegetables, Rice,...    $11.25   \n",
      "68    [Tomatillo-Red Chili Salsa (Hot), [Black Beans...    $10.98   \n",
      "79    [Roasted Chili Corn Salsa, [Rice, Cheese, Lett...    $11.25   \n",
      "90    [Fresh Tomato Salsa, [Rice, Black Beans, Chees...    $11.75   \n",
      "91    [Fresh Tomato Salsa, [Fajita Vegetables, Chees...    $11.75   \n",
      "93    [Roasted Chili Corn Salsa, [Sour Cream, Guacam...    $11.75   \n",
      "97    [Fresh Tomato Salsa, [Fajita Vegetables, Rice,...    $11.75   \n",
      "123   [Fresh Tomato Salsa, [Guacamole, Cheese, Sour ...    $11.25   \n",
      "130   [Roasted Chili Corn Salsa, [Rice, Pinto Beans,...    $11.75   \n",
      "134   [Roasted Chili Corn Salsa (Medium), [Rice, Bla...    $10.98   \n",
      "135   [Tomatillo Green Chili Salsa, [Sour Cream, Che...    $22.50   \n",
      "136   [Tomatillo Red Chili Salsa, [Fajita Vegetables...    $11.75   \n",
      "138   [Fresh Tomato Salsa, [Rice, Fajita Vegetables,...    $11.25   \n",
      "140   [Tomatillo Green Chili Salsa, [Rice, Sour Crea...    $11.25   \n",
      "142   [Fresh Tomato Salsa, [Fajita Vegetables, Rice,...    $11.25   \n",
      "143   [Tomatillo Red Chili Salsa, [Fajita Vegetables...    $11.25   \n",
      "144   [Tomatillo Red Chili Salsa, [Rice, Sour Cream,...    $11.75   \n",
      "147   [Tomatillo-Green Chili Salsa (Medium), [Rice, ...    $11.48   \n",
      "...                                                 ...        ...  \n",
      "4504  [Fresh Tomato Salsa, [Rice, Sour Cream, Guacam...    $11.75   \n",
      "4506  [Fresh Tomato Salsa, [Rice, Cheese, Sour Cream...    $11.25   \n",
      "4510                                        [Guacamole]    $11.49   \n",
      "4518  [Tomatillo Red Chili Salsa, [Rice, Black Beans...    $11.75   \n",
      "4521  [Roasted Chili Corn Salsa, [Guacamole, Lettuce...    $11.25   \n",
      "4523  [Tomatillo Green Chili Salsa, [Cheese, Sour Cr...    $11.75   \n",
      "4533  [Tomatillo Red Chili Salsa, [Fajita Vegetables...    $11.25   \n",
      "4540  [Tomatillo Green Chili Salsa, [Fajita Vegetabl...    $11.25   \n",
      "4553  [Roasted Chili Corn Salsa, [Black Beans, Sour ...    $11.25   \n",
      "4554  [Roasted Chili Corn Salsa, [Fajita Vegetables,...    $11.75   \n",
      "4556  [Tomatillo Green Chili Salsa, [Fajita Vegetabl...    $11.25   \n",
      "4559  [Tomatillo Red Chili Salsa, [Rice, Cheese, Gua...    $11.25   \n",
      "4561  [Fresh Tomato Salsa, [Fajita Vegetables, Pinto...    $17.50   \n",
      "4564  [Fresh Tomato Salsa, [Fajita Vegetables, Rice,...    $11.25   \n",
      "4576  [Fresh Tomato Salsa, [Rice, Cheese, Sour Cream...    $11.25   \n",
      "4580  [Fresh Tomato Salsa, [Black Beans, Cheese, Gua...    $11.25   \n",
      "4586  [Fresh Tomato Salsa, [Rice, Black Beans, Chees...    $11.25   \n",
      "4587  [Fresh Tomato Salsa, [Rice, Black Beans, Chees...    $11.25   \n",
      "4589  [Fresh Tomato Salsa, [Rice, Black Beans, Sour ...    $11.25   \n",
      "4590  [Roasted Chili Corn Salsa, [Rice, Black Beans,...    $11.25   \n",
      "4592  [Tomatillo Red Chili Salsa, [Rice, Fajita Vege...    $11.75   \n",
      "4593  [Roasted Chili Corn Salsa, [Rice, Sour Cream, ...    $11.75   \n",
      "4594  [Roasted Chili Corn Salsa, [Pinto Beans, Sour ...    $11.75   \n",
      "4607  [Tomatillo Green Chili Salsa, [Rice, Cheese, S...    $11.75   \n",
      "4608  [Tomatillo Red Chili Salsa, [Fajita Vegetables...    $11.25   \n",
      "4610  [Fresh Tomato Salsa, [Rice, Sour Cream, Cheese...    $11.75   \n",
      "4611  [Tomatillo Green Chili Salsa, [Rice, Fajita Ve...    $11.25   \n",
      "4617  [Fresh Tomato Salsa, [Rice, Black Beans, Sour ...    $11.75   \n",
      "4618  [Fresh Tomato Salsa, [Rice, Sour Cream, Cheese...    $11.75   \n",
      "4619  [Fresh Tomato Salsa, [Fajita Vegetables, Pinto...    $11.25   \n",
      "\n",
      "[1130 rows x 5 columns]\n"
     ]
    }
   ],
   "source": [
    "print(chipo[chipo['item_price'].str.replace('$','').astype('float64') >10])"
   ]
  },
  {
   "cell_type": "markdown",
   "metadata": {},
   "source": [
    "Какова цена каждого предмета? Напечатать столбцы item_name и item_price"
   ]
  },
  {
   "cell_type": "code",
   "execution_count": 46,
   "metadata": {},
   "outputs": [
    {
     "name": "stdout",
     "output_type": "stream",
     "text": [
      "                                  item_name item_price\n",
      "0              Chips and Fresh Tomato Salsa     $2.39 \n",
      "1                                      Izze     $3.39 \n",
      "2                          Nantucket Nectar     $3.39 \n",
      "3     Chips and Tomatillo-Green Chili Salsa     $2.39 \n",
      "4                              Chicken Bowl    $16.98 \n",
      "5                              Chicken Bowl    $10.98 \n",
      "6                             Side of Chips     $1.69 \n",
      "7                             Steak Burrito    $11.75 \n",
      "8                          Steak Soft Tacos     $9.25 \n",
      "9                             Steak Burrito     $9.25 \n",
      "10                      Chips and Guacamole     $4.45 \n",
      "11                     Chicken Crispy Tacos     $8.75 \n",
      "12                       Chicken Soft Tacos     $8.75 \n",
      "13                             Chicken Bowl    $11.25 \n",
      "14                      Chips and Guacamole     $4.45 \n",
      "15    Chips and Tomatillo-Green Chili Salsa     $2.39 \n",
      "16                          Chicken Burrito     $8.49 \n",
      "17                          Chicken Burrito     $8.49 \n",
      "18                              Canned Soda     $2.18 \n",
      "19                             Chicken Bowl     $8.75 \n",
      "20                      Chips and Guacamole     $4.45 \n",
      "21                         Barbacoa Burrito     $8.99 \n",
      "22                         Nantucket Nectar     $3.39 \n",
      "23                          Chicken Burrito    $10.98 \n",
      "24                                     Izze     $3.39 \n",
      "25             Chips and Fresh Tomato Salsa     $2.39 \n",
      "26                             Chicken Bowl     $8.49 \n",
      "27                         Carnitas Burrito     $8.99 \n",
      "28                              Canned Soda     $1.09 \n",
      "29                          Chicken Burrito     $8.49 \n",
      "...                                     ...        ...\n",
      "4592                       Barbacoa Burrito    $11.75 \n",
      "4593                          Carnitas Bowl    $11.75 \n",
      "4594                          Barbacoa Bowl    $11.75 \n",
      "4595                           Chicken Bowl     $8.75 \n",
      "4596                    Chips and Guacamole     $4.45 \n",
      "4597                      Canned Soft Drink     $1.25 \n",
      "4598                          Bottled Water     $1.50 \n",
      "4599                           Chicken Bowl     $8.75 \n",
      "4600                    Chips and Guacamole     $4.45 \n",
      "4601                      Canned Soft Drink     $1.25 \n",
      "4602                       Barbacoa Burrito     $9.25 \n",
      "4603                       Barbacoa Burrito     $9.25 \n",
      "4604                           Chicken Bowl     $8.75 \n",
      "4605                    Chips and Guacamole     $4.45 \n",
      "4606                      Canned Soft Drink     $1.25 \n",
      "4607                          Steak Burrito    $11.75 \n",
      "4608                         Veggie Burrito    $11.25 \n",
      "4609                      Canned Soft Drink     $1.25 \n",
      "4610                          Steak Burrito    $11.75 \n",
      "4611                         Veggie Burrito    $11.25 \n",
      "4612                          Carnitas Bowl     $9.25 \n",
      "4613                                  Chips     $2.15 \n",
      "4614                          Bottled Water     $1.50 \n",
      "4615                     Chicken Soft Tacos     $8.75 \n",
      "4616                    Chips and Guacamole     $4.45 \n",
      "4617                          Steak Burrito    $11.75 \n",
      "4618                          Steak Burrito    $11.75 \n",
      "4619                     Chicken Salad Bowl    $11.25 \n",
      "4620                     Chicken Salad Bowl     $8.75 \n",
      "4621                     Chicken Salad Bowl     $8.75 \n",
      "\n",
      "[4622 rows x 2 columns]\n"
     ]
    }
   ],
   "source": [
    "print(chipo[['item_name','item_price']])"
   ]
  },
  {
   "cell_type": "markdown",
   "metadata": {},
   "source": [
    "Отсортировать по имени предмета"
   ]
  },
  {
   "cell_type": "code",
   "execution_count": 57,
   "metadata": {},
   "outputs": [
    {
     "name": "stdout",
     "output_type": "stream",
     "text": [
      "      order_id  quantity          item_name  \\\n",
      "3889      1559         2  Veggie Soft Tacos   \n",
      "2851      1132         1  Veggie Soft Tacos   \n",
      "738        304         1  Veggie Soft Tacos   \n",
      "1395       567         1  Veggie Soft Tacos   \n",
      "2384       948         1  Veggie Soft Tacos   \n",
      "1699       688         1  Veggie Soft Tacos   \n",
      "781        322         1  Veggie Soft Tacos   \n",
      "4573      1818         1  Veggie Salad Bowl   \n",
      "455        195         1  Veggie Salad Bowl   \n",
      "496        207         1  Veggie Salad Bowl   \n",
      "2156       869         1  Veggie Salad Bowl   \n",
      "2683      1066         1  Veggie Salad Bowl   \n",
      "3293      1321         1  Veggie Salad Bowl   \n",
      "295        128         1  Veggie Salad Bowl   \n",
      "4109      1646         1  Veggie Salad Bowl   \n",
      "2269       913         1  Veggie Salad Bowl   \n",
      "1316       536         1  Veggie Salad Bowl   \n",
      "2223       896         1  Veggie Salad Bowl   \n",
      "4541      1805         1  Veggie Salad Bowl   \n",
      "3223      1289         1  Veggie Salad Bowl   \n",
      "4261      1700         1  Veggie Salad Bowl   \n",
      "960        394         1  Veggie Salad Bowl   \n",
      "1884       760         1  Veggie Salad Bowl   \n",
      "4201      1677         1  Veggie Salad Bowl   \n",
      "186         83         1  Veggie Salad Bowl   \n",
      "2756      1094         1       Veggie Salad   \n",
      "1694       686         1       Veggie Salad   \n",
      "3471      1395         1       Veggie Salad   \n",
      "3163      1263         1       Veggie Salad   \n",
      "2996      1192         1       Veggie Salad   \n",
      "...        ...       ...                ...   \n",
      "1976       798         1  6 Pack Soft Drink   \n",
      "4522      1798         1  6 Pack Soft Drink   \n",
      "3010      1196         1  6 Pack Soft Drink   \n",
      "4535      1803         1  6 Pack Soft Drink   \n",
      "2713      1076         1  6 Pack Soft Drink   \n",
      "2374       945         1  6 Pack Soft Drink   \n",
      "298        129         1  6 Pack Soft Drink   \n",
      "3600      1443         1  6 Pack Soft Drink   \n",
      "1026       422         1  6 Pack Soft Drink   \n",
      "2108       849         1  6 Pack Soft Drink   \n",
      "1279       520         1  6 Pack Soft Drink   \n",
      "2793      1109         1  6 Pack Soft Drink   \n",
      "1051       432         1  6 Pack Soft Drink   \n",
      "3633      1454         1  6 Pack Soft Drink   \n",
      "553        230         1  6 Pack Soft Drink   \n",
      "3422      1373         1  6 Pack Soft Drink   \n",
      "879        363         1  6 Pack Soft Drink   \n",
      "1937       784         1  6 Pack Soft Drink   \n",
      "3693      1480         1  6 Pack Soft Drink   \n",
      "2389       949         1  6 Pack Soft Drink   \n",
      "4169      1664         1  6 Pack Soft Drink   \n",
      "4174      1666         1  6 Pack Soft Drink   \n",
      "3766      1508         1  6 Pack Soft Drink   \n",
      "1260       511         1  6 Pack Soft Drink   \n",
      "341        148         1  6 Pack Soft Drink   \n",
      "1916       774         1  6 Pack Soft Drink   \n",
      "1124       465         1  6 Pack Soft Drink   \n",
      "3789      1517         1  6 Pack Soft Drink   \n",
      "1392       566         1  6 Pack Soft Drink   \n",
      "3614      1448         1  6 Pack Soft Drink   \n",
      "\n",
      "                                     choice_description item_price  \n",
      "3889  [Fresh Tomato Salsa (Mild), [Black Beans, Rice...    $16.98   \n",
      "2851  [Roasted Chili Corn Salsa (Medium), [Black Bea...     $8.49   \n",
      "738   [Tomatillo Red Chili Salsa, [Fajita Vegetables...    $11.25   \n",
      "1395  [Fresh Tomato Salsa (Mild), [Pinto Beans, Rice...     $8.49   \n",
      "2384  [Roasted Chili Corn Salsa, [Fajita Vegetables,...     $8.75   \n",
      "1699  [Fresh Tomato Salsa, [Fajita Vegetables, Rice,...    $11.25   \n",
      "781   [Fresh Tomato Salsa, [Black Beans, Cheese, Sou...     $8.75   \n",
      "4573  [Fresh Tomato Salsa, [Fajita Vegetables, Pinto...     $8.75   \n",
      "455   [Fresh Tomato Salsa, [Fajita Vegetables, Rice,...    $11.25   \n",
      "496   [Fresh Tomato Salsa, [Rice, Lettuce, Guacamole...    $11.25   \n",
      "2156  [Tomatillo Red Chili Salsa, [Fajita Vegetables...    $11.25   \n",
      "2683  [Roasted Chili Corn Salsa, [Fajita Vegetables,...     $8.75   \n",
      "3293  [Fresh Tomato Salsa, [Rice, Black Beans, Chees...     $8.75   \n",
      "295   [Fresh Tomato Salsa, [Fajita Vegetables, Lettu...    $11.25   \n",
      "4109  [Tomatillo Red Chili Salsa, [Fajita Vegetables...    $11.25   \n",
      "2269  [Fresh Tomato Salsa, [Fajita Vegetables, Rice,...     $8.75   \n",
      "1316  [Fresh Tomato Salsa, [Fajita Vegetables, Rice,...     $8.75   \n",
      "2223      [Roasted Chili Corn Salsa, Fajita Vegetables]     $8.75   \n",
      "4541  [Tomatillo Green Chili Salsa, [Fajita Vegetabl...     $8.75   \n",
      "3223  [Tomatillo Red Chili Salsa, [Fajita Vegetables...    $11.25   \n",
      "4261  [Fresh Tomato Salsa, [Fajita Vegetables, Rice,...    $11.25   \n",
      "960   [Fresh Tomato Salsa, [Fajita Vegetables, Lettu...     $8.75   \n",
      "1884  [Fresh Tomato Salsa, [Fajita Vegetables, Rice,...    $11.25   \n",
      "4201  [Fresh Tomato Salsa, [Fajita Vegetables, Black...    $11.25   \n",
      "186   [Fresh Tomato Salsa, [Fajita Vegetables, Rice,...    $11.25   \n",
      "2756  [[Tomatillo-Green Chili Salsa (Medium), Roaste...     $8.49   \n",
      "1694  [[Fresh Tomato Salsa (Mild), Roasted Chili Cor...     $8.49   \n",
      "3471  [[Tomatillo-Green Chili Salsa (Medium), Roaste...     $8.49   \n",
      "3163  [[Fresh Tomato Salsa (Mild), Roasted Chili Cor...     $8.49   \n",
      "2996  [Roasted Chili Corn Salsa (Medium), [Black Bea...     $8.49   \n",
      "...                                                 ...        ...  \n",
      "1976                                        [Diet Coke]     $6.49   \n",
      "4522                                        [Diet Coke]     $6.49   \n",
      "3010                                        [Diet Coke]     $6.49   \n",
      "4535                                         [Lemonade]     $6.49   \n",
      "2713                                             [Coke]     $6.49   \n",
      "2374                                           [Sprite]     $6.49   \n",
      "298                                            [Sprite]     $6.49   \n",
      "3600                                             [Coke]     $6.49   \n",
      "1026                                           [Sprite]     $6.49   \n",
      "2108                                             [Coke]     $6.49   \n",
      "1279                                           [Sprite]     $6.49   \n",
      "2793                                        [Diet Coke]     $6.49   \n",
      "1051                                             [Coke]     $6.49   \n",
      "3633                                             [Coke]     $6.49   \n",
      "553                                         [Diet Coke]     $6.49   \n",
      "3422                                             [Coke]     $6.49   \n",
      "879                                              [Coke]     $6.49   \n",
      "1937                                        [Diet Coke]     $6.49   \n",
      "3693                                        [Diet Coke]     $6.49   \n",
      "2389                                             [Coke]     $6.49   \n",
      "4169                                        [Diet Coke]     $6.49   \n",
      "4174                                             [Coke]     $6.49   \n",
      "3766                                             [Coke]     $6.49   \n",
      "1260                                             [Coke]     $6.49   \n",
      "341                                         [Diet Coke]     $6.49   \n",
      "1916                                        [Diet Coke]     $6.49   \n",
      "1124                                             [Coke]     $6.49   \n",
      "3789                                        [Diet Coke]     $6.49   \n",
      "1392                                        [Diet Coke]     $6.49   \n",
      "3614                                           [Nestea]     $6.49   \n",
      "\n",
      "[4622 rows x 5 columns]\n"
     ]
    }
   ],
   "source": [
    "print(chipo.sort_values(by=['item_name'], ascending=False))"
   ]
  },
  {
   "cell_type": "markdown",
   "metadata": {},
   "source": [
    "Сколько было заказано самого дорогого предмета?"
   ]
  },
  {
   "cell_type": "code",
   "execution_count": 59,
   "metadata": {},
   "outputs": [
    {
     "data": {
      "text/plain": [
       "15"
      ]
     },
     "execution_count": 59,
     "metadata": {},
     "output_type": "execute_result"
    }
   ],
   "source": [
    "chipo.loc[chipo['item_price'].str.replace('$','').astype('float64').idxmax()]['quantity']"
   ]
  },
  {
   "cell_type": "markdown",
   "metadata": {},
   "source": [
    "Сколько раз был заказан предмет \"Veggie Salad Bowl\"?"
   ]
  },
  {
   "cell_type": "code",
   "execution_count": 66,
   "metadata": {},
   "outputs": [
    {
     "data": {
      "text/plain": [
       "18"
      ]
     },
     "execution_count": 66,
     "metadata": {},
     "output_type": "execute_result"
    }
   ],
   "source": [
    "chipo.loc[chipo['item_name'] == 'Veggie Salad Bowl']['order_id'].count()"
   ]
  },
  {
   "cell_type": "markdown",
   "metadata": {},
   "source": [
    "Сколько раз люди заказали более чем 1 предмет \"Canned Soda\"?"
   ]
  },
  {
   "cell_type": "code",
   "execution_count": 71,
   "metadata": {},
   "outputs": [
    {
     "data": {
      "text/html": [
       "<div>\n",
       "<style scoped>\n",
       "    .dataframe tbody tr th:only-of-type {\n",
       "        vertical-align: middle;\n",
       "    }\n",
       "\n",
       "    .dataframe tbody tr th {\n",
       "        vertical-align: top;\n",
       "    }\n",
       "\n",
       "    .dataframe thead th {\n",
       "        text-align: right;\n",
       "    }\n",
       "</style>\n",
       "<table border=\"1\" class=\"dataframe\">\n",
       "  <thead>\n",
       "    <tr style=\"text-align: right;\">\n",
       "      <th></th>\n",
       "      <th>order_id</th>\n",
       "      <th>quantity</th>\n",
       "      <th>item_name</th>\n",
       "      <th>choice_description</th>\n",
       "      <th>item_price</th>\n",
       "    </tr>\n",
       "  </thead>\n",
       "  <tbody>\n",
       "    <tr>\n",
       "      <th>18</th>\n",
       "      <td>9</td>\n",
       "      <td>2</td>\n",
       "      <td>Canned Soda</td>\n",
       "      <td>[Sprite]</td>\n",
       "      <td>$2.18</td>\n",
       "    </tr>\n",
       "    <tr>\n",
       "      <th>51</th>\n",
       "      <td>23</td>\n",
       "      <td>2</td>\n",
       "      <td>Canned Soda</td>\n",
       "      <td>[Mountain Dew]</td>\n",
       "      <td>$2.18</td>\n",
       "    </tr>\n",
       "    <tr>\n",
       "      <th>162</th>\n",
       "      <td>73</td>\n",
       "      <td>2</td>\n",
       "      <td>Canned Soda</td>\n",
       "      <td>[Diet Coke]</td>\n",
       "      <td>$2.18</td>\n",
       "    </tr>\n",
       "    <tr>\n",
       "      <th>171</th>\n",
       "      <td>76</td>\n",
       "      <td>2</td>\n",
       "      <td>Canned Soda</td>\n",
       "      <td>[Diet Dr. Pepper]</td>\n",
       "      <td>$2.18</td>\n",
       "    </tr>\n",
       "    <tr>\n",
       "      <th>350</th>\n",
       "      <td>150</td>\n",
       "      <td>2</td>\n",
       "      <td>Canned Soda</td>\n",
       "      <td>[Diet Coke]</td>\n",
       "      <td>$2.18</td>\n",
       "    </tr>\n",
       "    <tr>\n",
       "      <th>352</th>\n",
       "      <td>151</td>\n",
       "      <td>2</td>\n",
       "      <td>Canned Soda</td>\n",
       "      <td>[Coca Cola]</td>\n",
       "      <td>$2.18</td>\n",
       "    </tr>\n",
       "    <tr>\n",
       "      <th>698</th>\n",
       "      <td>287</td>\n",
       "      <td>2</td>\n",
       "      <td>Canned Soda</td>\n",
       "      <td>[Coca Cola]</td>\n",
       "      <td>$2.18</td>\n",
       "    </tr>\n",
       "    <tr>\n",
       "      <th>700</th>\n",
       "      <td>288</td>\n",
       "      <td>2</td>\n",
       "      <td>Canned Soda</td>\n",
       "      <td>[Coca Cola]</td>\n",
       "      <td>$2.18</td>\n",
       "    </tr>\n",
       "    <tr>\n",
       "      <th>909</th>\n",
       "      <td>376</td>\n",
       "      <td>2</td>\n",
       "      <td>Canned Soda</td>\n",
       "      <td>[Mountain Dew]</td>\n",
       "      <td>$2.18</td>\n",
       "    </tr>\n",
       "    <tr>\n",
       "      <th>1091</th>\n",
       "      <td>450</td>\n",
       "      <td>2</td>\n",
       "      <td>Canned Soda</td>\n",
       "      <td>[Dr. Pepper]</td>\n",
       "      <td>$2.18</td>\n",
       "    </tr>\n",
       "    <tr>\n",
       "      <th>1092</th>\n",
       "      <td>450</td>\n",
       "      <td>2</td>\n",
       "      <td>Canned Soda</td>\n",
       "      <td>[Coca Cola]</td>\n",
       "      <td>$2.18</td>\n",
       "    </tr>\n",
       "    <tr>\n",
       "      <th>1944</th>\n",
       "      <td>787</td>\n",
       "      <td>2</td>\n",
       "      <td>Canned Soda</td>\n",
       "      <td>[Dr. Pepper]</td>\n",
       "      <td>$2.18</td>\n",
       "    </tr>\n",
       "    <tr>\n",
       "      <th>2135</th>\n",
       "      <td>859</td>\n",
       "      <td>2</td>\n",
       "      <td>Canned Soda</td>\n",
       "      <td>[Diet Coke]</td>\n",
       "      <td>$2.18</td>\n",
       "    </tr>\n",
       "    <tr>\n",
       "      <th>2235</th>\n",
       "      <td>901</td>\n",
       "      <td>4</td>\n",
       "      <td>Canned Soda</td>\n",
       "      <td>[Sprite]</td>\n",
       "      <td>$4.36</td>\n",
       "    </tr>\n",
       "    <tr>\n",
       "      <th>2905</th>\n",
       "      <td>1156</td>\n",
       "      <td>2</td>\n",
       "      <td>Canned Soda</td>\n",
       "      <td>[Coca Cola]</td>\n",
       "      <td>$2.18</td>\n",
       "    </tr>\n",
       "    <tr>\n",
       "      <th>2906</th>\n",
       "      <td>1156</td>\n",
       "      <td>2</td>\n",
       "      <td>Canned Soda</td>\n",
       "      <td>[Sprite]</td>\n",
       "      <td>$2.18</td>\n",
       "    </tr>\n",
       "    <tr>\n",
       "      <th>3152</th>\n",
       "      <td>1258</td>\n",
       "      <td>2</td>\n",
       "      <td>Canned Soda</td>\n",
       "      <td>[Dr. Pepper]</td>\n",
       "      <td>$2.18</td>\n",
       "    </tr>\n",
       "    <tr>\n",
       "      <th>3364</th>\n",
       "      <td>1349</td>\n",
       "      <td>2</td>\n",
       "      <td>Canned Soda</td>\n",
       "      <td>[Coca Cola]</td>\n",
       "      <td>$2.18</td>\n",
       "    </tr>\n",
       "    <tr>\n",
       "      <th>3592</th>\n",
       "      <td>1440</td>\n",
       "      <td>2</td>\n",
       "      <td>Canned Soda</td>\n",
       "      <td>[Diet Coke]</td>\n",
       "      <td>$2.18</td>\n",
       "    </tr>\n",
       "    <tr>\n",
       "      <th>3866</th>\n",
       "      <td>1550</td>\n",
       "      <td>2</td>\n",
       "      <td>Canned Soda</td>\n",
       "      <td>[Mountain Dew]</td>\n",
       "      <td>$2.18</td>\n",
       "    </tr>\n",
       "  </tbody>\n",
       "</table>\n",
       "</div>"
      ],
      "text/plain": [
       "      order_id  quantity    item_name choice_description item_price\n",
       "18           9         2  Canned Soda           [Sprite]     $2.18 \n",
       "51          23         2  Canned Soda     [Mountain Dew]     $2.18 \n",
       "162         73         2  Canned Soda        [Diet Coke]     $2.18 \n",
       "171         76         2  Canned Soda  [Diet Dr. Pepper]     $2.18 \n",
       "350        150         2  Canned Soda        [Diet Coke]     $2.18 \n",
       "352        151         2  Canned Soda        [Coca Cola]     $2.18 \n",
       "698        287         2  Canned Soda        [Coca Cola]     $2.18 \n",
       "700        288         2  Canned Soda        [Coca Cola]     $2.18 \n",
       "909        376         2  Canned Soda     [Mountain Dew]     $2.18 \n",
       "1091       450         2  Canned Soda       [Dr. Pepper]     $2.18 \n",
       "1092       450         2  Canned Soda        [Coca Cola]     $2.18 \n",
       "1944       787         2  Canned Soda       [Dr. Pepper]     $2.18 \n",
       "2135       859         2  Canned Soda        [Diet Coke]     $2.18 \n",
       "2235       901         4  Canned Soda           [Sprite]     $4.36 \n",
       "2905      1156         2  Canned Soda        [Coca Cola]     $2.18 \n",
       "2906      1156         2  Canned Soda           [Sprite]     $2.18 \n",
       "3152      1258         2  Canned Soda       [Dr. Pepper]     $2.18 \n",
       "3364      1349         2  Canned Soda        [Coca Cola]     $2.18 \n",
       "3592      1440         2  Canned Soda        [Diet Coke]     $2.18 \n",
       "3866      1550         2  Canned Soda     [Mountain Dew]     $2.18 "
      ]
     },
     "execution_count": 71,
     "metadata": {},
     "output_type": "execute_result"
    }
   ],
   "source": [
    "chipo.loc[(chipo['item_name'] == 'Canned Soda') & (chipo['quantity'] > 1)]"
   ]
  },
  {
   "cell_type": "code",
   "execution_count": null,
   "metadata": {},
   "outputs": [],
   "source": []
  }
 ],
 "metadata": {
  "kernelspec": {
   "display_name": "Python 3",
   "language": "python",
   "name": "python3"
  },
  "language_info": {
   "codemirror_mode": {
    "name": "ipython",
    "version": 3
   },
   "file_extension": ".py",
   "mimetype": "text/x-python",
   "name": "python",
   "nbconvert_exporter": "python",
   "pygments_lexer": "ipython3",
   "version": "3.6.4"
  }
 },
 "nbformat": 4,
 "nbformat_minor": 2
}
